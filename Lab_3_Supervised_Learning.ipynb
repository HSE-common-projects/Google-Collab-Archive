{
  "nbformat": 4,
  "nbformat_minor": 0,
  "metadata": {
    "kernelspec": {
      "display_name": "Python 3",
      "language": "python",
      "name": "python3"
    },
    "language_info": {
      "codemirror_mode": {
        "name": "ipython",
        "version": 3
      },
      "file_extension": ".py",
      "mimetype": "text/x-python",
      "name": "python",
      "nbconvert_exporter": "python",
      "pygments_lexer": "ipython3",
      "version": "3.8.5"
    },
    "colab": {
      "name": "Lab_3.Supervised_Learning.ipynb",
      "provenance": [],
      "collapsed_sections": [],
      "include_colab_link": true
    }
  },
  "cells": [
    {
      "cell_type": "markdown",
      "metadata": {
        "id": "view-in-github",
        "colab_type": "text"
      },
      "source": [
        "<a href=\"https://colab.research.google.com/github/SmirnovGrigory/Google-Collab-Archive/blob/main/Lab_3_Supervised_Learning.ipynb\" target=\"_parent\"><img src=\"https://colab.research.google.com/assets/colab-badge.svg\" alt=\"Open In Colab\"/></a>"
      ]
    },
    {
      "cell_type": "markdown",
      "metadata": {
        "id": "_tNCHEST5FOP"
      },
      "source": [
        "# <center>Майнор \"Интеллектуальный анализ данных\"</center>"
      ]
    },
    {
      "cell_type": "markdown",
      "metadata": {
        "id": "aaXIiBfR5FOS"
      },
      "source": [
        "# <center>Курс \"Введение в анализ данных\"</center>"
      ]
    },
    {
      "cell_type": "markdown",
      "metadata": {
        "id": "8ljtGZOL5FOS"
      },
      "source": [
        "# <center>Лабораторная работа №3. Supervised Learning</center>"
      ]
    },
    {
      "cell_type": "markdown",
      "metadata": {
        "id": "mkgCuUmb5FOS"
      },
      "source": [
        "## Данные"
      ]
    },
    {
      "cell_type": "markdown",
      "metadata": {
        "id": "3BdvB5wi5FOT"
      },
      "source": [
        "В рамках данной лабораторной работы вам предлагается проанализировать набор данных о студентах двух школ в Португалии.  \n",
        "В файле `students_data.csv` представлена информация о студентах, посещающих два курса - математику (`Math`) и поргутальский язык (`Por`). Некоторые студенты представлены в обоих курсах, некоторые - только в одном. Для каждого студента известны три оценки по курсу: оценка за первое полугодие (`G1`), оценка за второе полугодие (`G2`) и итоговая оценка за год (`G3`)."
      ]
    },
    {
      "cell_type": "code",
      "metadata": {
        "id": "kXlPSlCd5FOT"
      },
      "source": [
        "import pandas as pd"
      ],
      "execution_count": 119,
      "outputs": []
    },
    {
      "cell_type": "code",
      "metadata": {
        "id": "L4XJPNKn5FOT"
      },
      "source": [
        "pd.set_option('display.max_columns', 40)\n",
        "\n",
        "pd.set_option('display.max_colwidth', None)"
      ],
      "execution_count": 120,
      "outputs": []
    },
    {
      "cell_type": "code",
      "metadata": {
        "colab": {
          "base_uri": "https://localhost:8080/"
        },
        "id": "Wqbs31yP5FOU",
        "outputId": "a2e0bc5c-b8c1-4291-c456-67f50a3ddded"
      },
      "source": [
        "df = pd.read_csv(\"students_data.csv\")\n",
        "\n",
        "df.shape"
      ],
      "execution_count": 121,
      "outputs": [
        {
          "output_type": "execute_result",
          "data": {
            "text/plain": [
              "(1044, 36)"
            ]
          },
          "metadata": {
            "tags": []
          },
          "execution_count": 121
        }
      ]
    },
    {
      "cell_type": "code",
      "metadata": {
        "colab": {
          "base_uri": "https://localhost:8080/",
          "height": 534
        },
        "id": "K0fVaY5K5FOV",
        "outputId": "7238e8e8-f33c-4293-8da4-19af3edc8f2c"
      },
      "source": [
        "df.head(15)"
      ],
      "execution_count": 122,
      "outputs": [
        {
          "output_type": "execute_result",
          "data": {
            "text/html": [
              "<div>\n",
              "<style scoped>\n",
              "    .dataframe tbody tr th:only-of-type {\n",
              "        vertical-align: middle;\n",
              "    }\n",
              "\n",
              "    .dataframe tbody tr th {\n",
              "        vertical-align: top;\n",
              "    }\n",
              "\n",
              "    .dataframe thead th {\n",
              "        text-align: right;\n",
              "    }\n",
              "</style>\n",
              "<table border=\"1\" class=\"dataframe\">\n",
              "  <thead>\n",
              "    <tr style=\"text-align: right;\">\n",
              "      <th></th>\n",
              "      <th>ID</th>\n",
              "      <th>Subject</th>\n",
              "      <th>school</th>\n",
              "      <th>sex</th>\n",
              "      <th>age</th>\n",
              "      <th>address</th>\n",
              "      <th>famsize</th>\n",
              "      <th>Pstatus</th>\n",
              "      <th>Medu</th>\n",
              "      <th>Fedu</th>\n",
              "      <th>Mjob</th>\n",
              "      <th>Fjob</th>\n",
              "      <th>reason</th>\n",
              "      <th>guardian</th>\n",
              "      <th>traveltime</th>\n",
              "      <th>studytime</th>\n",
              "      <th>failures</th>\n",
              "      <th>schoolsup</th>\n",
              "      <th>famsup</th>\n",
              "      <th>paid</th>\n",
              "      <th>activities</th>\n",
              "      <th>nursery</th>\n",
              "      <th>higher</th>\n",
              "      <th>internet</th>\n",
              "      <th>romantic</th>\n",
              "      <th>famrel</th>\n",
              "      <th>freetime</th>\n",
              "      <th>goout</th>\n",
              "      <th>Dalc</th>\n",
              "      <th>Walc</th>\n",
              "      <th>health</th>\n",
              "      <th>absences</th>\n",
              "      <th>cheating</th>\n",
              "      <th>G1</th>\n",
              "      <th>G2</th>\n",
              "      <th>G3</th>\n",
              "    </tr>\n",
              "  </thead>\n",
              "  <tbody>\n",
              "    <tr>\n",
              "      <th>0</th>\n",
              "      <td>100097</td>\n",
              "      <td>Por</td>\n",
              "      <td>GP</td>\n",
              "      <td>F</td>\n",
              "      <td>16</td>\n",
              "      <td>U</td>\n",
              "      <td>GT3</td>\n",
              "      <td>A</td>\n",
              "      <td>3</td>\n",
              "      <td>4</td>\n",
              "      <td>services</td>\n",
              "      <td>other</td>\n",
              "      <td>course</td>\n",
              "      <td>father</td>\n",
              "      <td>1</td>\n",
              "      <td>1</td>\n",
              "      <td>0</td>\n",
              "      <td>no</td>\n",
              "      <td>no</td>\n",
              "      <td>no</td>\n",
              "      <td>no</td>\n",
              "      <td>yes</td>\n",
              "      <td>yes</td>\n",
              "      <td>yes</td>\n",
              "      <td>no</td>\n",
              "      <td>3.0</td>\n",
              "      <td>2</td>\n",
              "      <td>1</td>\n",
              "      <td>1.0</td>\n",
              "      <td>4.0</td>\n",
              "      <td>5</td>\n",
              "      <td>12</td>\n",
              "      <td>NaN</td>\n",
              "      <td>15</td>\n",
              "      <td>13</td>\n",
              "      <td>14</td>\n",
              "    </tr>\n",
              "    <tr>\n",
              "      <th>1</th>\n",
              "      <td>101021</td>\n",
              "      <td>Por</td>\n",
              "      <td>GP</td>\n",
              "      <td>F</td>\n",
              "      <td>17</td>\n",
              "      <td>U</td>\n",
              "      <td>GT3</td>\n",
              "      <td>T</td>\n",
              "      <td>3</td>\n",
              "      <td>2</td>\n",
              "      <td>other</td>\n",
              "      <td>other</td>\n",
              "      <td>course</td>\n",
              "      <td>mother</td>\n",
              "      <td>1</td>\n",
              "      <td>2</td>\n",
              "      <td>0</td>\n",
              "      <td>no</td>\n",
              "      <td>no</td>\n",
              "      <td>no</td>\n",
              "      <td>yes</td>\n",
              "      <td>no</td>\n",
              "      <td>yes</td>\n",
              "      <td>yes</td>\n",
              "      <td>no</td>\n",
              "      <td>5.0</td>\n",
              "      <td>3</td>\n",
              "      <td>4</td>\n",
              "      <td>1.0</td>\n",
              "      <td>3.0</td>\n",
              "      <td>3</td>\n",
              "      <td>2</td>\n",
              "      <td>NaN</td>\n",
              "      <td>17</td>\n",
              "      <td>18</td>\n",
              "      <td>17</td>\n",
              "    </tr>\n",
              "    <tr>\n",
              "      <th>2</th>\n",
              "      <td>102965</td>\n",
              "      <td>Por</td>\n",
              "      <td>GP</td>\n",
              "      <td>M</td>\n",
              "      <td>16</td>\n",
              "      <td>U</td>\n",
              "      <td>LE3</td>\n",
              "      <td>T</td>\n",
              "      <td>1</td>\n",
              "      <td>2</td>\n",
              "      <td>health</td>\n",
              "      <td>services</td>\n",
              "      <td>course</td>\n",
              "      <td>mother</td>\n",
              "      <td>2</td>\n",
              "      <td>1</td>\n",
              "      <td>2</td>\n",
              "      <td>no</td>\n",
              "      <td>no</td>\n",
              "      <td>no</td>\n",
              "      <td>no</td>\n",
              "      <td>no</td>\n",
              "      <td>yes</td>\n",
              "      <td>yes</td>\n",
              "      <td>no</td>\n",
              "      <td>4.0</td>\n",
              "      <td>4</td>\n",
              "      <td>5</td>\n",
              "      <td>3.0</td>\n",
              "      <td>5.0</td>\n",
              "      <td>5</td>\n",
              "      <td>0</td>\n",
              "      <td>yes</td>\n",
              "      <td>9</td>\n",
              "      <td>8</td>\n",
              "      <td>10</td>\n",
              "    </tr>\n",
              "    <tr>\n",
              "      <th>3</th>\n",
              "      <td>102989</td>\n",
              "      <td>Por</td>\n",
              "      <td>MS</td>\n",
              "      <td>M</td>\n",
              "      <td>17</td>\n",
              "      <td>U</td>\n",
              "      <td>GT3</td>\n",
              "      <td>T</td>\n",
              "      <td>2</td>\n",
              "      <td>3</td>\n",
              "      <td>other</td>\n",
              "      <td>services</td>\n",
              "      <td>home</td>\n",
              "      <td>father</td>\n",
              "      <td>2</td>\n",
              "      <td>2</td>\n",
              "      <td>0</td>\n",
              "      <td>no</td>\n",
              "      <td>no</td>\n",
              "      <td>no</td>\n",
              "      <td>yes</td>\n",
              "      <td>yes</td>\n",
              "      <td>yes</td>\n",
              "      <td>yes</td>\n",
              "      <td>no</td>\n",
              "      <td>4.0</td>\n",
              "      <td>4</td>\n",
              "      <td>3</td>\n",
              "      <td>1.0</td>\n",
              "      <td>1.0</td>\n",
              "      <td>3</td>\n",
              "      <td>4</td>\n",
              "      <td>no</td>\n",
              "      <td>14</td>\n",
              "      <td>15</td>\n",
              "      <td>16</td>\n",
              "    </tr>\n",
              "    <tr>\n",
              "      <th>4</th>\n",
              "      <td>103131</td>\n",
              "      <td>Por</td>\n",
              "      <td>GP</td>\n",
              "      <td>F</td>\n",
              "      <td>16</td>\n",
              "      <td>U</td>\n",
              "      <td>GT3</td>\n",
              "      <td>T</td>\n",
              "      <td>1</td>\n",
              "      <td>1</td>\n",
              "      <td>at_home</td>\n",
              "      <td>other</td>\n",
              "      <td>home</td>\n",
              "      <td>mother</td>\n",
              "      <td>2</td>\n",
              "      <td>1</td>\n",
              "      <td>0</td>\n",
              "      <td>no</td>\n",
              "      <td>yes</td>\n",
              "      <td>no</td>\n",
              "      <td>no</td>\n",
              "      <td>yes</td>\n",
              "      <td>yes</td>\n",
              "      <td>no</td>\n",
              "      <td>NaN</td>\n",
              "      <td>4.0</td>\n",
              "      <td>3</td>\n",
              "      <td>2</td>\n",
              "      <td>1.0</td>\n",
              "      <td>4.0</td>\n",
              "      <td>5</td>\n",
              "      <td>2</td>\n",
              "      <td>yes</td>\n",
              "      <td>12</td>\n",
              "      <td>13</td>\n",
              "      <td>13</td>\n",
              "    </tr>\n",
              "    <tr>\n",
              "      <th>5</th>\n",
              "      <td>103144</td>\n",
              "      <td>Por</td>\n",
              "      <td>GP</td>\n",
              "      <td>M</td>\n",
              "      <td>18</td>\n",
              "      <td>U</td>\n",
              "      <td>LE3</td>\n",
              "      <td>T</td>\n",
              "      <td>3</td>\n",
              "      <td>1</td>\n",
              "      <td>services</td>\n",
              "      <td>services</td>\n",
              "      <td>course</td>\n",
              "      <td>mother</td>\n",
              "      <td>2</td>\n",
              "      <td>1</td>\n",
              "      <td>0</td>\n",
              "      <td>no</td>\n",
              "      <td>no</td>\n",
              "      <td>no</td>\n",
              "      <td>yes</td>\n",
              "      <td>yes</td>\n",
              "      <td>yes</td>\n",
              "      <td>yes</td>\n",
              "      <td>yes</td>\n",
              "      <td>3.0</td>\n",
              "      <td>3</td>\n",
              "      <td>4</td>\n",
              "      <td>4.0</td>\n",
              "      <td>5.0</td>\n",
              "      <td>4</td>\n",
              "      <td>2</td>\n",
              "      <td>NaN</td>\n",
              "      <td>11</td>\n",
              "      <td>11</td>\n",
              "      <td>12</td>\n",
              "    </tr>\n",
              "    <tr>\n",
              "      <th>6</th>\n",
              "      <td>105257</td>\n",
              "      <td>Por</td>\n",
              "      <td>MS</td>\n",
              "      <td>F</td>\n",
              "      <td>18</td>\n",
              "      <td>U</td>\n",
              "      <td>GT3</td>\n",
              "      <td>T</td>\n",
              "      <td>1</td>\n",
              "      <td>1</td>\n",
              "      <td>other</td>\n",
              "      <td>other</td>\n",
              "      <td>course</td>\n",
              "      <td>mother</td>\n",
              "      <td>2</td>\n",
              "      <td>2</td>\n",
              "      <td>0</td>\n",
              "      <td>no</td>\n",
              "      <td>no</td>\n",
              "      <td>no</td>\n",
              "      <td>yes</td>\n",
              "      <td>yes</td>\n",
              "      <td>yes</td>\n",
              "      <td>no</td>\n",
              "      <td>no</td>\n",
              "      <td>1.0</td>\n",
              "      <td>1</td>\n",
              "      <td>1</td>\n",
              "      <td>1.0</td>\n",
              "      <td>1.0</td>\n",
              "      <td>5</td>\n",
              "      <td>6</td>\n",
              "      <td>NaN</td>\n",
              "      <td>11</td>\n",
              "      <td>12</td>\n",
              "      <td>9</td>\n",
              "    </tr>\n",
              "    <tr>\n",
              "      <th>7</th>\n",
              "      <td>107639</td>\n",
              "      <td>Por</td>\n",
              "      <td>MS</td>\n",
              "      <td>F</td>\n",
              "      <td>15</td>\n",
              "      <td>R</td>\n",
              "      <td>GT3</td>\n",
              "      <td>T</td>\n",
              "      <td>4</td>\n",
              "      <td>4</td>\n",
              "      <td>teacher</td>\n",
              "      <td>other</td>\n",
              "      <td>course</td>\n",
              "      <td>mother</td>\n",
              "      <td>2</td>\n",
              "      <td>1</td>\n",
              "      <td>0</td>\n",
              "      <td>no</td>\n",
              "      <td>no</td>\n",
              "      <td>no</td>\n",
              "      <td>no</td>\n",
              "      <td>yes</td>\n",
              "      <td>yes</td>\n",
              "      <td>yes</td>\n",
              "      <td>yes</td>\n",
              "      <td>1.0</td>\n",
              "      <td>5</td>\n",
              "      <td>1</td>\n",
              "      <td>3.0</td>\n",
              "      <td>5.0</td>\n",
              "      <td>5</td>\n",
              "      <td>0</td>\n",
              "      <td>NaN</td>\n",
              "      <td>13</td>\n",
              "      <td>14</td>\n",
              "      <td>14</td>\n",
              "    </tr>\n",
              "    <tr>\n",
              "      <th>8</th>\n",
              "      <td>107914</td>\n",
              "      <td>Math</td>\n",
              "      <td>GP</td>\n",
              "      <td>F</td>\n",
              "      <td>15</td>\n",
              "      <td>U</td>\n",
              "      <td>LE3</td>\n",
              "      <td>T</td>\n",
              "      <td>3</td>\n",
              "      <td>2</td>\n",
              "      <td>services</td>\n",
              "      <td>other</td>\n",
              "      <td>reputation</td>\n",
              "      <td>mother</td>\n",
              "      <td>1</td>\n",
              "      <td>2</td>\n",
              "      <td>0</td>\n",
              "      <td>no</td>\n",
              "      <td>yes</td>\n",
              "      <td>yes</td>\n",
              "      <td>no</td>\n",
              "      <td>yes</td>\n",
              "      <td>yes</td>\n",
              "      <td>yes</td>\n",
              "      <td>no</td>\n",
              "      <td>4.0</td>\n",
              "      <td>4</td>\n",
              "      <td>4</td>\n",
              "      <td>1.0</td>\n",
              "      <td>1.0</td>\n",
              "      <td>5</td>\n",
              "      <td>10</td>\n",
              "      <td>no</td>\n",
              "      <td>7</td>\n",
              "      <td>6</td>\n",
              "      <td>6</td>\n",
              "    </tr>\n",
              "    <tr>\n",
              "      <th>9</th>\n",
              "      <td>108089</td>\n",
              "      <td>Por</td>\n",
              "      <td>MS</td>\n",
              "      <td>M</td>\n",
              "      <td>16</td>\n",
              "      <td>R</td>\n",
              "      <td>GT3</td>\n",
              "      <td>T</td>\n",
              "      <td>3</td>\n",
              "      <td>4</td>\n",
              "      <td>other</td>\n",
              "      <td>health</td>\n",
              "      <td>other</td>\n",
              "      <td>mother</td>\n",
              "      <td>3</td>\n",
              "      <td>2</td>\n",
              "      <td>0</td>\n",
              "      <td>no</td>\n",
              "      <td>no</td>\n",
              "      <td>no</td>\n",
              "      <td>no</td>\n",
              "      <td>no</td>\n",
              "      <td>yes</td>\n",
              "      <td>no</td>\n",
              "      <td>no</td>\n",
              "      <td>3.0</td>\n",
              "      <td>4</td>\n",
              "      <td>5</td>\n",
              "      <td>1.0</td>\n",
              "      <td>2.0</td>\n",
              "      <td>5</td>\n",
              "      <td>4</td>\n",
              "      <td>NaN</td>\n",
              "      <td>9</td>\n",
              "      <td>10</td>\n",
              "      <td>11</td>\n",
              "    </tr>\n",
              "    <tr>\n",
              "      <th>10</th>\n",
              "      <td>108254</td>\n",
              "      <td>Por</td>\n",
              "      <td>GP</td>\n",
              "      <td>M</td>\n",
              "      <td>15</td>\n",
              "      <td>U</td>\n",
              "      <td>LE3</td>\n",
              "      <td>T</td>\n",
              "      <td>4</td>\n",
              "      <td>4</td>\n",
              "      <td>health</td>\n",
              "      <td>services</td>\n",
              "      <td>course</td>\n",
              "      <td>father</td>\n",
              "      <td>1</td>\n",
              "      <td>1</td>\n",
              "      <td>0</td>\n",
              "      <td>no</td>\n",
              "      <td>yes</td>\n",
              "      <td>no</td>\n",
              "      <td>yes</td>\n",
              "      <td>yes</td>\n",
              "      <td>yes</td>\n",
              "      <td>yes</td>\n",
              "      <td>no</td>\n",
              "      <td>4.0</td>\n",
              "      <td>3</td>\n",
              "      <td>3</td>\n",
              "      <td>1.0</td>\n",
              "      <td>3.0</td>\n",
              "      <td>5</td>\n",
              "      <td>0</td>\n",
              "      <td>NaN</td>\n",
              "      <td>12</td>\n",
              "      <td>13</td>\n",
              "      <td>12</td>\n",
              "    </tr>\n",
              "    <tr>\n",
              "      <th>11</th>\n",
              "      <td>108296</td>\n",
              "      <td>Por</td>\n",
              "      <td>GP</td>\n",
              "      <td>M</td>\n",
              "      <td>18</td>\n",
              "      <td>U</td>\n",
              "      <td>LE3</td>\n",
              "      <td>T</td>\n",
              "      <td>3</td>\n",
              "      <td>4</td>\n",
              "      <td>services</td>\n",
              "      <td>other</td>\n",
              "      <td>home</td>\n",
              "      <td>mother</td>\n",
              "      <td>1</td>\n",
              "      <td>2</td>\n",
              "      <td>0</td>\n",
              "      <td>no</td>\n",
              "      <td>no</td>\n",
              "      <td>no</td>\n",
              "      <td>yes</td>\n",
              "      <td>yes</td>\n",
              "      <td>yes</td>\n",
              "      <td>yes</td>\n",
              "      <td>yes</td>\n",
              "      <td>4.0</td>\n",
              "      <td>3</td>\n",
              "      <td>3</td>\n",
              "      <td>1.0</td>\n",
              "      <td>3.0</td>\n",
              "      <td>5</td>\n",
              "      <td>6</td>\n",
              "      <td>no</td>\n",
              "      <td>16</td>\n",
              "      <td>16</td>\n",
              "      <td>17</td>\n",
              "    </tr>\n",
              "    <tr>\n",
              "      <th>12</th>\n",
              "      <td>108753</td>\n",
              "      <td>Math</td>\n",
              "      <td>MS</td>\n",
              "      <td>F</td>\n",
              "      <td>18</td>\n",
              "      <td>R</td>\n",
              "      <td>GT3</td>\n",
              "      <td>T</td>\n",
              "      <td>4</td>\n",
              "      <td>4</td>\n",
              "      <td>teacher</td>\n",
              "      <td>at-home</td>\n",
              "      <td>reputation</td>\n",
              "      <td>mother</td>\n",
              "      <td>3</td>\n",
              "      <td>1</td>\n",
              "      <td>0</td>\n",
              "      <td>no</td>\n",
              "      <td>yes</td>\n",
              "      <td>yes</td>\n",
              "      <td>yes</td>\n",
              "      <td>yes</td>\n",
              "      <td>yes</td>\n",
              "      <td>yes</td>\n",
              "      <td>yes</td>\n",
              "      <td>4.0</td>\n",
              "      <td>4</td>\n",
              "      <td>3</td>\n",
              "      <td>2.0</td>\n",
              "      <td>2.0</td>\n",
              "      <td>5</td>\n",
              "      <td>7</td>\n",
              "      <td>NaN</td>\n",
              "      <td>6</td>\n",
              "      <td>5</td>\n",
              "      <td>6</td>\n",
              "    </tr>\n",
              "    <tr>\n",
              "      <th>13</th>\n",
              "      <td>108825</td>\n",
              "      <td>Por</td>\n",
              "      <td>GP</td>\n",
              "      <td>M</td>\n",
              "      <td>15</td>\n",
              "      <td>U</td>\n",
              "      <td>GT3</td>\n",
              "      <td>T</td>\n",
              "      <td>4</td>\n",
              "      <td>3</td>\n",
              "      <td>teacher</td>\n",
              "      <td>other</td>\n",
              "      <td>home</td>\n",
              "      <td>mother</td>\n",
              "      <td>1</td>\n",
              "      <td>2</td>\n",
              "      <td>0</td>\n",
              "      <td>no</td>\n",
              "      <td>yes</td>\n",
              "      <td>no</td>\n",
              "      <td>yes</td>\n",
              "      <td>yes</td>\n",
              "      <td>yes</td>\n",
              "      <td>yes</td>\n",
              "      <td>no</td>\n",
              "      <td>4.0</td>\n",
              "      <td>3</td>\n",
              "      <td>3</td>\n",
              "      <td>2.0</td>\n",
              "      <td>3.0</td>\n",
              "      <td>5</td>\n",
              "      <td>0</td>\n",
              "      <td>yes</td>\n",
              "      <td>11</td>\n",
              "      <td>11</td>\n",
              "      <td>11</td>\n",
              "    </tr>\n",
              "    <tr>\n",
              "      <th>14</th>\n",
              "      <td>114462</td>\n",
              "      <td>Math</td>\n",
              "      <td>GP</td>\n",
              "      <td>F</td>\n",
              "      <td>16</td>\n",
              "      <td>U</td>\n",
              "      <td>LE3</td>\n",
              "      <td>T</td>\n",
              "      <td>2</td>\n",
              "      <td>2</td>\n",
              "      <td>at_home</td>\n",
              "      <td>other</td>\n",
              "      <td>course</td>\n",
              "      <td>mother</td>\n",
              "      <td>1</td>\n",
              "      <td>2</td>\n",
              "      <td>0</td>\n",
              "      <td>no</td>\n",
              "      <td>yes</td>\n",
              "      <td>no</td>\n",
              "      <td>no</td>\n",
              "      <td>yes</td>\n",
              "      <td>yes</td>\n",
              "      <td>no</td>\n",
              "      <td>no</td>\n",
              "      <td>4.0</td>\n",
              "      <td>3</td>\n",
              "      <td>4</td>\n",
              "      <td>1.0</td>\n",
              "      <td>2.0</td>\n",
              "      <td>2</td>\n",
              "      <td>4</td>\n",
              "      <td>yes</td>\n",
              "      <td>8</td>\n",
              "      <td>7</td>\n",
              "      <td>6</td>\n",
              "    </tr>\n",
              "  </tbody>\n",
              "</table>\n",
              "</div>"
            ],
            "text/plain": [
              "        ID Subject school sex  age address famsize Pstatus Medu Fedu  \\\n",
              "0   100097     Por     GP   F   16       U     GT3       A    3    4   \n",
              "1   101021     Por     GP   F   17       U     GT3       T    3    2   \n",
              "2   102965     Por     GP   M   16       U     LE3       T    1    2   \n",
              "3   102989     Por     MS   M   17       U     GT3       T    2    3   \n",
              "4   103131     Por     GP   F   16       U     GT3       T    1    1   \n",
              "5   103144     Por     GP   M   18       U     LE3       T    3    1   \n",
              "6   105257     Por     MS   F   18       U     GT3       T    1    1   \n",
              "7   107639     Por     MS   F   15       R     GT3       T    4    4   \n",
              "8   107914    Math     GP   F   15       U     LE3       T    3    2   \n",
              "9   108089     Por     MS   M   16       R     GT3       T    3    4   \n",
              "10  108254     Por     GP   M   15       U     LE3       T    4    4   \n",
              "11  108296     Por     GP   M   18       U     LE3       T    3    4   \n",
              "12  108753    Math     MS   F   18       R     GT3       T    4    4   \n",
              "13  108825     Por     GP   M   15       U     GT3       T    4    3   \n",
              "14  114462    Math     GP   F   16       U     LE3       T    2    2   \n",
              "\n",
              "        Mjob      Fjob      reason guardian  traveltime  studytime  failures  \\\n",
              "0   services     other      course   father           1          1         0   \n",
              "1      other     other      course   mother           1          2         0   \n",
              "2     health  services      course   mother           2          1         2   \n",
              "3      other  services        home   father           2          2         0   \n",
              "4    at_home     other        home   mother           2          1         0   \n",
              "5   services  services      course   mother           2          1         0   \n",
              "6      other     other      course   mother           2          2         0   \n",
              "7    teacher     other      course   mother           2          1         0   \n",
              "8   services     other  reputation   mother           1          2         0   \n",
              "9      other    health       other   mother           3          2         0   \n",
              "10    health  services      course   father           1          1         0   \n",
              "11  services     other        home   mother           1          2         0   \n",
              "12   teacher   at-home  reputation   mother           3          1         0   \n",
              "13   teacher     other        home   mother           1          2         0   \n",
              "14   at_home     other      course   mother           1          2         0   \n",
              "\n",
              "   schoolsup famsup paid activities nursery higher internet romantic  famrel  \\\n",
              "0         no     no   no         no     yes    yes      yes       no     3.0   \n",
              "1         no     no   no        yes      no    yes      yes       no     5.0   \n",
              "2         no     no   no         no      no    yes      yes       no     4.0   \n",
              "3         no     no   no        yes     yes    yes      yes       no     4.0   \n",
              "4         no    yes   no         no     yes    yes       no      NaN     4.0   \n",
              "5         no     no   no        yes     yes    yes      yes      yes     3.0   \n",
              "6         no     no   no        yes     yes    yes       no       no     1.0   \n",
              "7         no     no   no         no     yes    yes      yes      yes     1.0   \n",
              "8         no    yes  yes         no     yes    yes      yes       no     4.0   \n",
              "9         no     no   no         no      no    yes       no       no     3.0   \n",
              "10        no    yes   no        yes     yes    yes      yes       no     4.0   \n",
              "11        no     no   no        yes     yes    yes      yes      yes     4.0   \n",
              "12        no    yes  yes        yes     yes    yes      yes      yes     4.0   \n",
              "13        no    yes   no        yes     yes    yes      yes       no     4.0   \n",
              "14        no    yes   no         no     yes    yes       no       no     4.0   \n",
              "\n",
              "    freetime  goout  Dalc  Walc  health  absences cheating  G1  G2  G3  \n",
              "0          2      1   1.0   4.0       5        12      NaN  15  13  14  \n",
              "1          3      4   1.0   3.0       3         2      NaN  17  18  17  \n",
              "2          4      5   3.0   5.0       5         0      yes   9   8  10  \n",
              "3          4      3   1.0   1.0       3         4       no  14  15  16  \n",
              "4          3      2   1.0   4.0       5         2      yes  12  13  13  \n",
              "5          3      4   4.0   5.0       4         2      NaN  11  11  12  \n",
              "6          1      1   1.0   1.0       5         6      NaN  11  12   9  \n",
              "7          5      1   3.0   5.0       5         0      NaN  13  14  14  \n",
              "8          4      4   1.0   1.0       5        10       no   7   6   6  \n",
              "9          4      5   1.0   2.0       5         4      NaN   9  10  11  \n",
              "10         3      3   1.0   3.0       5         0      NaN  12  13  12  \n",
              "11         3      3   1.0   3.0       5         6       no  16  16  17  \n",
              "12         4      3   2.0   2.0       5         7      NaN   6   5   6  \n",
              "13         3      3   2.0   3.0       5         0      yes  11  11  11  \n",
              "14         3      4   1.0   2.0       2         4      yes   8   7   6  "
            ]
          },
          "metadata": {
            "tags": []
          },
          "execution_count": 122
        }
      ]
    },
    {
      "cell_type": "markdown",
      "metadata": {
        "id": "y2vv6iTI5FOV"
      },
      "source": [
        "### Признаки"
      ]
    },
    {
      "cell_type": "markdown",
      "metadata": {
        "id": "pr0WUxWh5FOV"
      },
      "source": [
        "Данные представлены признаками различных типов: числовыми, категориальными, упорядоченными категориальными."
      ]
    },
    {
      "cell_type": "markdown",
      "metadata": {
        "id": "yJZ0kk485FOW"
      },
      "source": [
        "**Описание признаков:**"
      ]
    },
    {
      "cell_type": "code",
      "metadata": {
        "colab": {
          "base_uri": "https://localhost:8080/",
          "height": 1000
        },
        "id": "Z7cbXcuR5FOW",
        "outputId": "65967acd-ed7d-409c-a74e-a25a4518ef39"
      },
      "source": [
        "pd.read_csv('students_data_features.csv',\n",
        "            delimiter=';',\n",
        "            encoding='windows-1251')"
      ],
      "execution_count": 123,
      "outputs": [
        {
          "output_type": "execute_result",
          "data": {
            "text/html": [
              "<div>\n",
              "<style scoped>\n",
              "    .dataframe tbody tr th:only-of-type {\n",
              "        vertical-align: middle;\n",
              "    }\n",
              "\n",
              "    .dataframe tbody tr th {\n",
              "        vertical-align: top;\n",
              "    }\n",
              "\n",
              "    .dataframe thead th {\n",
              "        text-align: right;\n",
              "    }\n",
              "</style>\n",
              "<table border=\"1\" class=\"dataframe\">\n",
              "  <thead>\n",
              "    <tr style=\"text-align: right;\">\n",
              "      <th></th>\n",
              "      <th>Признак</th>\n",
              "      <th>Описание</th>\n",
              "    </tr>\n",
              "  </thead>\n",
              "  <tbody>\n",
              "    <tr>\n",
              "      <th>0</th>\n",
              "      <td>ID</td>\n",
              "      <td>Уникальный номер наблюдения</td>\n",
              "    </tr>\n",
              "    <tr>\n",
              "      <th>1</th>\n",
              "      <td>Subject</td>\n",
              "      <td>Предмет: 'Math' - математика, 'Por' - португальский язык</td>\n",
              "    </tr>\n",
              "    <tr>\n",
              "      <th>2</th>\n",
              "      <td>school</td>\n",
              "      <td>Школа: 'GP' - Gabriel Pereira, 'MS' - Mousinho da Silveira</td>\n",
              "    </tr>\n",
              "    <tr>\n",
              "      <th>3</th>\n",
              "      <td>sex</td>\n",
              "      <td>Пол студента: 'F' - женский, 'M' - мужской</td>\n",
              "    </tr>\n",
              "    <tr>\n",
              "      <th>4</th>\n",
              "      <td>age</td>\n",
              "      <td>Возраст студента</td>\n",
              "    </tr>\n",
              "    <tr>\n",
              "      <th>5</th>\n",
              "      <td>address</td>\n",
              "      <td>Место проживания студента: 'U' - в городе, 'R' - за городом</td>\n",
              "    </tr>\n",
              "    <tr>\n",
              "      <th>6</th>\n",
              "      <td>famsize</td>\n",
              "      <td>Число членов семьи: 'LE3' - если &lt;= 3, 'GT3' - если &gt; 3</td>\n",
              "    </tr>\n",
              "    <tr>\n",
              "      <th>7</th>\n",
              "      <td>Pstatus</td>\n",
              "      <td>Отношения родителей: 'T' - живут вместе, 'A' - живут раздельно</td>\n",
              "    </tr>\n",
              "    <tr>\n",
              "      <th>8</th>\n",
              "      <td>Medu</td>\n",
              "      <td>Образование матери: 0 - без образования, 1 - начальная школа, 2 – от 5 до 9 классов, 3 – среднее образование, 4 – высшее образование</td>\n",
              "    </tr>\n",
              "    <tr>\n",
              "      <th>9</th>\n",
              "      <td>Fedu</td>\n",
              "      <td>Образование отца: 0 - без образования, 1 - начальная школа, 2 – от 5 до 9 классов, 3 – среднее образование, 4 – высшее образование</td>\n",
              "    </tr>\n",
              "    <tr>\n",
              "      <th>10</th>\n",
              "      <td>Mjob</td>\n",
              "      <td>Работа матери: 'teacher' - связана с преподаванием, 'health'  - связана с здравоохранением, 'services' - администрация и полиция, 'at_home' - домашняя занятость, 'other' - другое</td>\n",
              "    </tr>\n",
              "    <tr>\n",
              "      <th>11</th>\n",
              "      <td>Fjob</td>\n",
              "      <td>Работа отца: 'teacher' - связана с преподаванием, 'health'  - связана с здравоохранением, 'services' - администрация и полиция, 'at_home' - домашняя занятость, 'other' - другое</td>\n",
              "    </tr>\n",
              "    <tr>\n",
              "      <th>12</th>\n",
              "      <td>reason</td>\n",
              "      <td>Причина, по которой студент выбрал данную школу: 'home' - рядом с домом, 'reputation' - репутация школы, 'course' - читаемые курсы, 'other' - другое</td>\n",
              "    </tr>\n",
              "    <tr>\n",
              "      <th>13</th>\n",
              "      <td>guardian</td>\n",
              "      <td>Опекун студента (student's guardian): 'mother', 'father' или 'other'</td>\n",
              "    </tr>\n",
              "    <tr>\n",
              "      <th>14</th>\n",
              "      <td>traveltime</td>\n",
              "      <td>Время в пути от дома до школы: 1 - &lt; 15 мин, 2 - от 15 до 30 мин, 3 - от 30 мин до 1 часа, 4 - &gt; 1 часа</td>\n",
              "    </tr>\n",
              "    <tr>\n",
              "      <th>15</th>\n",
              "      <td>studytime</td>\n",
              "      <td>Количество часов на учебу в неделю: 1 - &lt; 2 часов, 2 - от 2 до 5 часов, 3 - от 5 до 10 часов, 4 - &gt; 10 часов</td>\n",
              "    </tr>\n",
              "    <tr>\n",
              "      <th>16</th>\n",
              "      <td>failures</td>\n",
              "      <td>Число завалов студента по предыдущим курсам:  n если 0&lt;=n&lt;3, иначе 3</td>\n",
              "    </tr>\n",
              "    <tr>\n",
              "      <th>17</th>\n",
              "      <td>schoolsup</td>\n",
              "      <td>Дополнительная помощь в учебе: yes или no</td>\n",
              "    </tr>\n",
              "    <tr>\n",
              "      <th>18</th>\n",
              "      <td>famsup</td>\n",
              "      <td>Дополнительная помощь в учебе от членов семьи: yes или no</td>\n",
              "    </tr>\n",
              "    <tr>\n",
              "      <th>19</th>\n",
              "      <td>paid</td>\n",
              "      <td>Платные дополнительные занятия по соответствущему курсу ('Math' или 'Por'): yes или no</td>\n",
              "    </tr>\n",
              "    <tr>\n",
              "      <th>20</th>\n",
              "      <td>activities</td>\n",
              "      <td>Внеучебные активности: yes или no</td>\n",
              "    </tr>\n",
              "    <tr>\n",
              "      <th>21</th>\n",
              "      <td>nursery</td>\n",
              "      <td>Ходил в детстве в детский сад: yes или no</td>\n",
              "    </tr>\n",
              "    <tr>\n",
              "      <th>22</th>\n",
              "      <td>higher</td>\n",
              "      <td>Собирается получать высшее образование: yes или no</td>\n",
              "    </tr>\n",
              "    <tr>\n",
              "      <th>23</th>\n",
              "      <td>internet</td>\n",
              "      <td>Есть доступ к всемирной сети из дома: yes или no</td>\n",
              "    </tr>\n",
              "    <tr>\n",
              "      <th>24</th>\n",
              "      <td>romantic</td>\n",
              "      <td>Состоит в романтических отношениях: yes или no</td>\n",
              "    </tr>\n",
              "    <tr>\n",
              "      <th>25</th>\n",
              "      <td>famrel</td>\n",
              "      <td>Отношения в семье: от 1 - очень плохие, до 5 - прекрасные</td>\n",
              "    </tr>\n",
              "    <tr>\n",
              "      <th>26</th>\n",
              "      <td>freetime</td>\n",
              "      <td>Свободное время после занятий: от 1 - очень мало, до 5 - очень много</td>\n",
              "    </tr>\n",
              "    <tr>\n",
              "      <th>27</th>\n",
              "      <td>goout</td>\n",
              "      <td>Проводит время с друзьями: от 1 - очень редко/мало, до 5 - очень часто/много</td>\n",
              "    </tr>\n",
              "    <tr>\n",
              "      <th>28</th>\n",
              "      <td>Dalc</td>\n",
              "      <td>Потребление алкоголя в будни: от 1 - очень мало, до 5 - очень много</td>\n",
              "    </tr>\n",
              "    <tr>\n",
              "      <th>29</th>\n",
              "      <td>Walc</td>\n",
              "      <td>Потребление алкоголя в выходные: от 1 - очень мало, до 5 - очень много</td>\n",
              "    </tr>\n",
              "    <tr>\n",
              "      <th>30</th>\n",
              "      <td>health</td>\n",
              "      <td>Состояние здоровья: от 1 - очень плохое, до 5  - очень хорошее</td>\n",
              "    </tr>\n",
              "    <tr>\n",
              "      <th>31</th>\n",
              "      <td>absences</td>\n",
              "      <td>Число пропусков: сколько раз пропустил занятия в школе</td>\n",
              "    </tr>\n",
              "    <tr>\n",
              "      <th>32</th>\n",
              "      <td>cheating</td>\n",
              "      <td>Списывает ли на тестах: yes или no</td>\n",
              "    </tr>\n",
              "    <tr>\n",
              "      <th>33</th>\n",
              "      <td>G1</td>\n",
              "      <td>Оценка за первое полугодние: от 0 до 20</td>\n",
              "    </tr>\n",
              "    <tr>\n",
              "      <th>34</th>\n",
              "      <td>G2</td>\n",
              "      <td>Оценка за второе полугодие: от 0 до 20</td>\n",
              "    </tr>\n",
              "    <tr>\n",
              "      <th>35</th>\n",
              "      <td>G3</td>\n",
              "      <td>Итоговая оценка: от 0 до 20</td>\n",
              "    </tr>\n",
              "  </tbody>\n",
              "</table>\n",
              "</div>"
            ],
            "text/plain": [
              "       Признак  \\\n",
              "0           ID   \n",
              "1      Subject   \n",
              "2       school   \n",
              "3          sex   \n",
              "4          age   \n",
              "5      address   \n",
              "6      famsize   \n",
              "7      Pstatus   \n",
              "8         Medu   \n",
              "9         Fedu   \n",
              "10        Mjob   \n",
              "11        Fjob   \n",
              "12      reason   \n",
              "13    guardian   \n",
              "14  traveltime   \n",
              "15   studytime   \n",
              "16    failures   \n",
              "17   schoolsup   \n",
              "18      famsup   \n",
              "19        paid   \n",
              "20  activities   \n",
              "21     nursery   \n",
              "22      higher   \n",
              "23    internet   \n",
              "24    romantic   \n",
              "25      famrel   \n",
              "26    freetime   \n",
              "27       goout   \n",
              "28        Dalc   \n",
              "29        Walc   \n",
              "30      health   \n",
              "31    absences   \n",
              "32    cheating   \n",
              "33          G1   \n",
              "34          G2   \n",
              "35          G3   \n",
              "\n",
              "                                                                                                                                                                              Описание  \n",
              "0                                                                                                                                                          Уникальный номер наблюдения  \n",
              "1                                                                                                                             Предмет: 'Math' - математика, 'Por' - португальский язык  \n",
              "2                                                                                                                           Школа: 'GP' - Gabriel Pereira, 'MS' - Mousinho da Silveira  \n",
              "3                                                                                                                                           Пол студента: 'F' - женский, 'M' - мужской  \n",
              "4                                                                                                                                                                     Возраст студента  \n",
              "5                                                                                                                          Место проживания студента: 'U' - в городе, 'R' - за городом  \n",
              "6                                                                                                                              Число членов семьи: 'LE3' - если <= 3, 'GT3' - если > 3  \n",
              "7                                                                                                                       Отношения родителей: 'T' - живут вместе, 'A' - живут раздельно  \n",
              "8                                                 Образование матери: 0 - без образования, 1 - начальная школа, 2 – от 5 до 9 классов, 3 – среднее образование, 4 – высшее образование  \n",
              "9                                                   Образование отца: 0 - без образования, 1 - начальная школа, 2 – от 5 до 9 классов, 3 – среднее образование, 4 – высшее образование  \n",
              "10  Работа матери: 'teacher' - связана с преподаванием, 'health'  - связана с здравоохранением, 'services' - администрация и полиция, 'at_home' - домашняя занятость, 'other' - другое  \n",
              "11    Работа отца: 'teacher' - связана с преподаванием, 'health'  - связана с здравоохранением, 'services' - администрация и полиция, 'at_home' - домашняя занятость, 'other' - другое  \n",
              "12                                Причина, по которой студент выбрал данную школу: 'home' - рядом с домом, 'reputation' - репутация школы, 'course' - читаемые курсы, 'other' - другое  \n",
              "13                                                                                                                Опекун студента (student's guardian): 'mother', 'father' или 'other'  \n",
              "14                                                                             Время в пути от дома до школы: 1 - < 15 мин, 2 - от 15 до 30 мин, 3 - от 30 мин до 1 часа, 4 - > 1 часа  \n",
              "15                                                                        Количество часов на учебу в неделю: 1 - < 2 часов, 2 - от 2 до 5 часов, 3 - от 5 до 10 часов, 4 - > 10 часов  \n",
              "16                                                                                                                Число завалов студента по предыдущим курсам:  n если 0<=n<3, иначе 3  \n",
              "17                                                                                                                                           Дополнительная помощь в учебе: yes или no  \n",
              "18                                                                                                                           Дополнительная помощь в учебе от членов семьи: yes или no  \n",
              "19                                                                                              Платные дополнительные занятия по соответствущему курсу ('Math' или 'Por'): yes или no  \n",
              "20                                                                                                                                                   Внеучебные активности: yes или no  \n",
              "21                                                                                                                                           Ходил в детстве в детский сад: yes или no  \n",
              "22                                                                                                                                  Собирается получать высшее образование: yes или no  \n",
              "23                                                                                                                                    Есть доступ к всемирной сети из дома: yes или no  \n",
              "24                                                                                                                                      Состоит в романтических отношениях: yes или no  \n",
              "25                                                                                                                           Отношения в семье: от 1 - очень плохие, до 5 - прекрасные  \n",
              "26                                                                                                                Свободное время после занятий: от 1 - очень мало, до 5 - очень много  \n",
              "27                                                                                                        Проводит время с друзьями: от 1 - очень редко/мало, до 5 - очень часто/много  \n",
              "28                                                                                                                 Потребление алкоголя в будни: от 1 - очень мало, до 5 - очень много  \n",
              "29                                                                                                              Потребление алкоголя в выходные: от 1 - очень мало, до 5 - очень много  \n",
              "30                                                                                                                      Состояние здоровья: от 1 - очень плохое, до 5  - очень хорошее  \n",
              "31                                                                                                                              Число пропусков: сколько раз пропустил занятия в школе  \n",
              "32                                                                                                                                                  Списывает ли на тестах: yes или no  \n",
              "33                                                                                                                                             Оценка за первое полугодние: от 0 до 20  \n",
              "34                                                                                                                                              Оценка за второе полугодие: от 0 до 20  \n",
              "35                                                                                                                                                         Итоговая оценка: от 0 до 20  "
            ]
          },
          "metadata": {
            "tags": []
          },
          "execution_count": 123
        }
      ]
    },
    {
      "cell_type": "markdown",
      "metadata": {
        "id": "uEWPPrn95FOW"
      },
      "source": [
        "## Часть 1. Предобработка данных"
      ]
    },
    {
      "cell_type": "markdown",
      "metadata": {
        "id": "3HEbeLop5FOW"
      },
      "source": [
        "* Разделите данные на две части - данные для моделирования (80%) и отложенную выборку (20%). Убедитесь, что распределение целевой переменной (`G3`) одинаково в обоих частях.  \n",
        "  __NB__: Отложенную выборку нужно использовать только для финальной оценки качества модели. Обучение и кросс-валидацию следует проводить на данных для моделирования.  \n",
        "* Выполните необходимые преобразования данных: исправление ошибок, удаление выбросов и пропусков, приведение признаков к числовому виду.  \n",
        "* Оцените значимость признаков для определения итоговой оценки за курс. Исключите из выборки незначимые на ваш взгляд признаки, обоснуйте свое решение. \n",
        "* (Опционально) Feature engineering: создайте новые признаки (значимые) на основе уже имеющихся.\n",
        "  \n",
        "**Tip:** Используйте свои наработки из Лабораторной работы №1."
      ]
    },
    {
      "cell_type": "markdown",
      "metadata": {
        "id": "scI2TwLGynr3"
      },
      "source": [
        "**Преобразования**"
      ]
    },
    {
      "cell_type": "code",
      "metadata": {
        "id": "-G_KTq9390fx"
      },
      "source": [
        "from sklearn.model_selection import train_test_split\n",
        "import seaborn as sns\n",
        "import matplotlib.pyplot as plt\n",
        "from matplotlib import rcParams"
      ],
      "execution_count": 124,
      "outputs": []
    },
    {
      "cell_type": "code",
      "metadata": {
        "colab": {
          "base_uri": "https://localhost:8080/"
        },
        "id": "jF1CDtvWx7WM",
        "outputId": "9c1ac413-d8bb-4ed8-89f9-61d13a1d77a5"
      },
      "source": [
        "df.info()"
      ],
      "execution_count": 125,
      "outputs": [
        {
          "output_type": "stream",
          "text": [
            "<class 'pandas.core.frame.DataFrame'>\n",
            "RangeIndex: 1044 entries, 0 to 1043\n",
            "Data columns (total 36 columns):\n",
            " #   Column      Non-Null Count  Dtype  \n",
            "---  ------      --------------  -----  \n",
            " 0   ID          1044 non-null   int64  \n",
            " 1   Subject     1044 non-null   object \n",
            " 2   school      1044 non-null   object \n",
            " 3   sex         1044 non-null   object \n",
            " 4   age         1044 non-null   int64  \n",
            " 5   address     1044 non-null   object \n",
            " 6   famsize     1044 non-null   object \n",
            " 7   Pstatus     1044 non-null   object \n",
            " 8   Medu        1044 non-null   object \n",
            " 9   Fedu        1044 non-null   object \n",
            " 10  Mjob        1044 non-null   object \n",
            " 11  Fjob        1044 non-null   object \n",
            " 12  reason      1044 non-null   object \n",
            " 13  guardian    1044 non-null   object \n",
            " 14  traveltime  1044 non-null   int64  \n",
            " 15  studytime   1044 non-null   int64  \n",
            " 16  failures    1044 non-null   int64  \n",
            " 17  schoolsup   1044 non-null   object \n",
            " 18  famsup      1044 non-null   object \n",
            " 19  paid        1044 non-null   object \n",
            " 20  activities  1044 non-null   object \n",
            " 21  nursery     1044 non-null   object \n",
            " 22  higher      1044 non-null   object \n",
            " 23  internet    1044 non-null   object \n",
            " 24  romantic    1034 non-null   object \n",
            " 25  famrel      1034 non-null   float64\n",
            " 26  freetime    1044 non-null   int64  \n",
            " 27  goout       1044 non-null   int64  \n",
            " 28  Dalc        1034 non-null   float64\n",
            " 29  Walc        1034 non-null   float64\n",
            " 30  health      1044 non-null   int64  \n",
            " 31  absences    1044 non-null   int64  \n",
            " 32  cheating    344 non-null    object \n",
            " 33  G1          1044 non-null   int64  \n",
            " 34  G2          1044 non-null   int64  \n",
            " 35  G3          1044 non-null   int64  \n",
            "dtypes: float64(3), int64(12), object(21)\n",
            "memory usage: 293.8+ KB\n"
          ],
          "name": "stdout"
        }
      ]
    },
    {
      "cell_type": "code",
      "metadata": {
        "colab": {
          "base_uri": "https://localhost:8080/"
        },
        "id": "2w4LzlZ1x-86",
        "outputId": "70ddce29-3788-4568-eff4-407a42e4f94a"
      },
      "source": [
        "for feature in df.columns:\n",
        "  print(feature, df[feature].unique())"
      ],
      "execution_count": 126,
      "outputs": [
        {
          "output_type": "stream",
          "text": [
            "ID [100097 101021 102965 ... 998425 999143 999194]\n",
            "Subject ['Por' 'Math']\n",
            "school ['GP' 'MS']\n",
            "sex ['F' 'M' 'm']\n",
            "age [16 17 18 15 19 21 20 22]\n",
            "address ['U' 'R']\n",
            "famsize ['GT3' 'LE3']\n",
            "Pstatus ['A' 'T' 't']\n",
            "Medu ['3' '1' '2' '4' '0' 'o']\n",
            "Fedu ['4' '2' '3' '1' 'o' '0']\n",
            "Mjob ['services' 'other' 'health' 'at_home' 'teacher' 'at-home']\n",
            "Fjob ['other' 'services' 'health' 'at-home' 'teacher' 'at_home']\n",
            "reason ['course' 'home' 'reputation' 'other']\n",
            "guardian ['father' 'mother' 'other' 'futher']\n",
            "traveltime [1 2 3 4]\n",
            "studytime [1 2 4 3]\n",
            "failures [0 2 1 3]\n",
            "schoolsup ['no' 'yes']\n",
            "famsup ['no' 'yes']\n",
            "paid ['no' 'yes']\n",
            "activities ['no' 'yes']\n",
            "nursery ['yes' 'no']\n",
            "higher ['yes' 'no']\n",
            "internet ['yes' 'no']\n",
            "romantic ['no' nan 'yes']\n",
            "famrel [ 3.  5.  4.  1.  2. nan]\n",
            "freetime [2 3 4 1 5]\n",
            "goout [1 4 5 3 2]\n",
            "Dalc [ 1.  3.  4.  2.  5. nan]\n",
            "Walc [ 4.  3.  5.  1.  2. nan]\n",
            "health [5 3 4 2 1]\n",
            "absences [12  2  0  4  6 10  7 20 14 11 24  8 16 21  1 18  5 22  9  3 15 26 25 54\n",
            " 56 40 19 13 38 30 17 28 32 23 75]\n",
            "cheating [nan 'yes' 'no']\n",
            "G1 [15 17  9 14 12 11 13  7 16  6  8 10 18  0  5  3  4 19]\n",
            "G2 [13 18  8 15 11 12 14  6 10 16  5  7  9 17  0  4 19]\n",
            "G3 [14 17 10 16 13 12  9  6 11  8 18 15  0  5  7 19  4  1 20]\n"
          ],
          "name": "stdout"
        }
      ]
    },
    {
      "cell_type": "markdown",
      "metadata": {
        "id": "oaGpoxLTyMKo"
      },
      "source": [
        "исправляем опечатки"
      ]
    },
    {
      "cell_type": "code",
      "metadata": {
        "id": "RMUqJ9SDyGgq"
      },
      "source": [
        "for index in df.index:\n",
        "  if df.loc[index,'Medu'] == 'o':\n",
        "    df.loc[index,'Medu'] = '0'\n",
        "  if df.loc[index,'Fedu'] == 'o':\n",
        "    df.loc[index,'Fedu'] = '0'\n",
        "  if df.loc[index,'sex'] == 'm':\n",
        "    df.loc[index,'sex'] = 'M'\n",
        "  if df.loc[index,'guardian'] == 'futher':\n",
        "    df.loc[index,'guardian'] = 'father'\n",
        "  if df.loc[index,'Mjob'] == 'at-home':\n",
        "    df.loc[index,'Mjob'] = \"at_home\"\n",
        "  if df.loc[index,'Fjob'] == 'at-home':\n",
        "    df.loc[index,'Fjob'] = \"at_home\"\n",
        "  if df.loc[index,'Pstatus'] == 't':\n",
        "    df.loc[index,'Pstatus'] = \"T\""
      ],
      "execution_count": 127,
      "outputs": []
    },
    {
      "cell_type": "code",
      "metadata": {
        "id": "AJer-5YXyLKD"
      },
      "source": [
        "df['Fedu']=df.Fedu.astype('int64')\n",
        "df['Medu']=df.Medu.astype('int64')"
      ],
      "execution_count": 128,
      "outputs": []
    },
    {
      "cell_type": "code",
      "metadata": {
        "id": "T2Vp3VrGyXER"
      },
      "source": [
        "df=df.dropna(subset=['romantic', 'famrel', 'Dalc', 'Walc'])"
      ],
      "execution_count": 129,
      "outputs": []
    },
    {
      "cell_type": "code",
      "metadata": {
        "id": "eMh5RItwyX6q"
      },
      "source": [
        "df['Dalc']=df.Dalc.astype('int64')\n",
        "df['Walc']=df.Walc.astype('int64')\n",
        "df['famrel']=df.famrel.astype('int64')"
      ],
      "execution_count": 130,
      "outputs": []
    },
    {
      "cell_type": "markdown",
      "metadata": {
        "id": "BVmJU_UiFKiG"
      },
      "source": [
        "По признакам **romantic**, **famrel**, **Dalc**, **Walc** пропущенных значений совсем не много, можно просто удалить соответствующие наблюдения"
      ]
    },
    {
      "cell_type": "markdown",
      "metadata": {
        "id": "p8Q-pDhpFlUJ"
      },
      "source": [
        "иная ситуация с **cheating** здесь наблюдений с пропущенными значениями большинство, удалять ни в коем случае нельзя.\n",
        "Моя мысль следующая:\n",
        "**\"yes\"** - это тот, кто однозначно был пойман за списыванием. \n",
        "**\"no\"** - это тот, чья благонадежность не подлежит сомнениям\n",
        "**NаN** - это тот, о ком нет достоверной информации о списывании, но и быть увереным, что данный человек никогда не списывал нельзя. По этому можно выделить NaN в этом признаке как отдельное значение признака и использовать при дальнейшем анализе."
      ]
    },
    {
      "cell_type": "markdown",
      "metadata": {
        "id": "8Vo1azeZ8guR"
      },
      "source": [
        "добавляем значение признака \"No info\", т.к. не хотим удалять признак и с NaN работать не всегда удобно"
      ]
    },
    {
      "cell_type": "code",
      "metadata": {
        "id": "v82dHvo8_2mK"
      },
      "source": [
        "for index in df.index:\n",
        "  if pd.isna(df.loc[index,'cheating']):\n",
        "    df.loc[index,'cheating'] = 'No info'"
      ],
      "execution_count": 131,
      "outputs": []
    },
    {
      "cell_type": "markdown",
      "metadata": {
        "id": "8rqQGRJNza8K"
      },
      "source": [
        "**Не значимые признаки**"
      ]
    },
    {
      "cell_type": "markdown",
      "metadata": {
        "id": "njvz_E9szeFF"
      },
      "source": [
        "Может показаться, что в данных довольно много признаков которые, казалось бы, не могут никак влиять на итоговую оценку. Но я считаю, что большинство признаков важны так как могут иметь косвенное влияние"
      ]
    },
    {
      "cell_type": "markdown",
      "metadata": {
        "id": "36LsUUOf05hl"
      },
      "source": [
        "сомнения могут вызывать признаки **romantic, famrel, health, address, traveltime**"
      ]
    },
    {
      "cell_type": "markdown",
      "metadata": {
        "id": "3WLi1Smq1fCM"
      },
      "source": [
        "но"
      ]
    },
    {
      "cell_type": "markdown",
      "metadata": {
        "id": "zxy2u8_h1g99"
      },
      "source": [
        "romantic, famrel, health влияют на эмоциональное состояние студента"
      ]
    },
    {
      "cell_type": "markdown",
      "metadata": {
        "id": "IRUnpMIJ1rI8"
      },
      "source": [
        "address, traveltime влияют на признак abscences, который в свою очередь имеет уже непосредственное влияние на признак absences, который в свою очередь уже имеет довольно значимое слияние на оценку"
      ]
    },
    {
      "cell_type": "markdown",
      "metadata": {
        "id": "RbxJp8AN28WR"
      },
      "source": [
        "я принял решение исключить признаки famsize, guardian, Pstatus несмотря на то, что все эти признаки связаны с семьей, особой корреляции между ними и эмоциональным состоянием или временем, выделяемым на учебу я не нашел"
      ]
    },
    {
      "cell_type": "code",
      "metadata": {
        "colab": {
          "base_uri": "https://localhost:8080/"
        },
        "id": "Gz4FYSt73oXP",
        "outputId": "3eac8895-e47e-49b5-ddd4-6a54b47a0e93"
      },
      "source": [
        "df=df.drop(columns=['famsize', 'guardian','Pstatus','ID'])\n",
        "df.columns"
      ],
      "execution_count": 132,
      "outputs": [
        {
          "output_type": "execute_result",
          "data": {
            "text/plain": [
              "Index(['Subject', 'school', 'sex', 'age', 'address', 'Medu', 'Fedu', 'Mjob',\n",
              "       'Fjob', 'reason', 'traveltime', 'studytime', 'failures', 'schoolsup',\n",
              "       'famsup', 'paid', 'activities', 'nursery', 'higher', 'internet',\n",
              "       'romantic', 'famrel', 'freetime', 'goout', 'Dalc', 'Walc', 'health',\n",
              "       'absences', 'cheating', 'G1', 'G2', 'G3'],\n",
              "      dtype='object')"
            ]
          },
          "metadata": {
            "tags": []
          },
          "execution_count": 132
        }
      ]
    },
    {
      "cell_type": "markdown",
      "metadata": {
        "id": "yveRZFIWyuEM"
      },
      "source": [
        "**Разделение на две выборки**"
      ]
    },
    {
      "cell_type": "code",
      "metadata": {
        "colab": {
          "base_uri": "https://localhost:8080/"
        },
        "id": "V6h4Yi8m4gmZ",
        "outputId": "0e17bf4d-1129-4574-e1b7-aed9c8524f4a"
      },
      "source": [
        "df.shape"
      ],
      "execution_count": 133,
      "outputs": [
        {
          "output_type": "execute_result",
          "data": {
            "text/plain": [
              "(1004, 32)"
            ]
          },
          "metadata": {
            "tags": []
          },
          "execution_count": 133
        }
      ]
    },
    {
      "cell_type": "code",
      "metadata": {
        "colab": {
          "base_uri": "https://localhost:8080/"
        },
        "id": "_Nr14xoSwluy",
        "outputId": "0f15af66-3297-4686-c6b7-98a5970635f8"
      },
      "source": [
        "df_train, df_test = train_test_split(df, test_size=0.2)\n",
        "df_train.shape"
      ],
      "execution_count": 134,
      "outputs": [
        {
          "output_type": "execute_result",
          "data": {
            "text/plain": [
              "(803, 32)"
            ]
          },
          "metadata": {
            "tags": []
          },
          "execution_count": 134
        }
      ]
    },
    {
      "cell_type": "code",
      "metadata": {
        "colab": {
          "base_uri": "https://localhost:8080/",
          "height": 598
        },
        "id": "2Bg4buT94yta",
        "outputId": "58e002d9-66b7-4208-a430-594899a16a4d"
      },
      "source": [
        "rcParams['figure.figsize'] = [10, 7]\n",
        "sns.distplot(df_train.G3, bins=range(30), kde=True, rug=True)\n",
        "sns.distplot(df_test.G3, bins=range(30), kde=True, rug=True)\n",
        "plt.legend(['train','test'])\n",
        "plt.show()"
      ],
      "execution_count": 135,
      "outputs": [
        {
          "output_type": "stream",
          "text": [
            "/usr/local/lib/python3.7/dist-packages/seaborn/distributions.py:2557: FutureWarning: `distplot` is a deprecated function and will be removed in a future version. Please adapt your code to use either `displot` (a figure-level function with similar flexibility) or `histplot` (an axes-level function for histograms).\n",
            "  warnings.warn(msg, FutureWarning)\n",
            "/usr/local/lib/python3.7/dist-packages/seaborn/distributions.py:2056: FutureWarning: The `axis` variable is no longer used and will be removed. Instead, assign variables directly to `x` or `y`.\n",
            "  warnings.warn(msg, FutureWarning)\n",
            "/usr/local/lib/python3.7/dist-packages/seaborn/distributions.py:2557: FutureWarning: `distplot` is a deprecated function and will be removed in a future version. Please adapt your code to use either `displot` (a figure-level function with similar flexibility) or `histplot` (an axes-level function for histograms).\n",
            "  warnings.warn(msg, FutureWarning)\n",
            "/usr/local/lib/python3.7/dist-packages/seaborn/distributions.py:2056: FutureWarning: The `axis` variable is no longer used and will be removed. Instead, assign variables directly to `x` or `y`.\n",
            "  warnings.warn(msg, FutureWarning)\n"
          ],
          "name": "stderr"
        },
        {
          "output_type": "display_data",
          "data": {
            "image/png": "[encoded data removed]",
            "text/plain": [
              "<Figure size 720x504 with 1 Axes>"
            ]
          },
          "metadata": {
            "tags": [],
            "needs_background": "light"
          }
        }
      ]
    },
    {
      "cell_type": "code",
      "metadata": {
        "colab": {
          "base_uri": "https://localhost:8080/",
          "height": 297
        },
        "id": "sdSH3_IL5u5N",
        "outputId": "e57aa210-87c2-4261-d512-a491661c57f8"
      },
      "source": [
        "df_test.describe()"
      ],
      "execution_count": 136,
      "outputs": [
        {
          "output_type": "execute_result",
          "data": {
            "text/html": [
              "<div>\n",
              "<style scoped>\n",
              "    .dataframe tbody tr th:only-of-type {\n",
              "        vertical-align: middle;\n",
              "    }\n",
              "\n",
              "    .dataframe tbody tr th {\n",
              "        vertical-align: top;\n",
              "    }\n",
              "\n",
              "    .dataframe thead th {\n",
              "        text-align: right;\n",
              "    }\n",
              "</style>\n",
              "<table border=\"1\" class=\"dataframe\">\n",
              "  <thead>\n",
              "    <tr style=\"text-align: right;\">\n",
              "      <th></th>\n",
              "      <th>age</th>\n",
              "      <th>Medu</th>\n",
              "      <th>Fedu</th>\n",
              "      <th>traveltime</th>\n",
              "      <th>studytime</th>\n",
              "      <th>failures</th>\n",
              "      <th>famrel</th>\n",
              "      <th>freetime</th>\n",
              "      <th>goout</th>\n",
              "      <th>Dalc</th>\n",
              "      <th>Walc</th>\n",
              "      <th>health</th>\n",
              "      <th>absences</th>\n",
              "      <th>G1</th>\n",
              "      <th>G2</th>\n",
              "      <th>G3</th>\n",
              "    </tr>\n",
              "  </thead>\n",
              "  <tbody>\n",
              "    <tr>\n",
              "      <th>count</th>\n",
              "      <td>201.000000</td>\n",
              "      <td>201.000000</td>\n",
              "      <td>201.000000</td>\n",
              "      <td>201.000000</td>\n",
              "      <td>201.000000</td>\n",
              "      <td>201.000000</td>\n",
              "      <td>201.00000</td>\n",
              "      <td>201.000000</td>\n",
              "      <td>201.000000</td>\n",
              "      <td>201.000000</td>\n",
              "      <td>201.000000</td>\n",
              "      <td>201.000000</td>\n",
              "      <td>201.000000</td>\n",
              "      <td>201.000000</td>\n",
              "      <td>201.000000</td>\n",
              "      <td>201.000000</td>\n",
              "    </tr>\n",
              "    <tr>\n",
              "      <th>mean</th>\n",
              "      <td>16.761194</td>\n",
              "      <td>2.532338</td>\n",
              "      <td>2.313433</td>\n",
              "      <td>1.601990</td>\n",
              "      <td>2.029851</td>\n",
              "      <td>0.238806</td>\n",
              "      <td>3.99005</td>\n",
              "      <td>3.233831</td>\n",
              "      <td>3.228856</td>\n",
              "      <td>1.522388</td>\n",
              "      <td>2.353234</td>\n",
              "      <td>3.537313</td>\n",
              "      <td>4.328358</td>\n",
              "      <td>10.925373</td>\n",
              "      <td>10.945274</td>\n",
              "      <td>10.995025</td>\n",
              "    </tr>\n",
              "    <tr>\n",
              "      <th>std</th>\n",
              "      <td>1.201119</td>\n",
              "      <td>1.095536</td>\n",
              "      <td>1.065959</td>\n",
              "      <td>0.768633</td>\n",
              "      <td>0.824078</td>\n",
              "      <td>0.602235</td>\n",
              "      <td>0.92190</td>\n",
              "      <td>1.044054</td>\n",
              "      <td>1.194723</td>\n",
              "      <td>0.905950</td>\n",
              "      <td>1.334017</td>\n",
              "      <td>1.414161</td>\n",
              "      <td>5.570605</td>\n",
              "      <td>2.954556</td>\n",
              "      <td>3.220557</td>\n",
              "      <td>3.826875</td>\n",
              "    </tr>\n",
              "    <tr>\n",
              "      <th>min</th>\n",
              "      <td>15.000000</td>\n",
              "      <td>0.000000</td>\n",
              "      <td>0.000000</td>\n",
              "      <td>1.000000</td>\n",
              "      <td>1.000000</td>\n",
              "      <td>0.000000</td>\n",
              "      <td>1.00000</td>\n",
              "      <td>1.000000</td>\n",
              "      <td>1.000000</td>\n",
              "      <td>1.000000</td>\n",
              "      <td>1.000000</td>\n",
              "      <td>1.000000</td>\n",
              "      <td>0.000000</td>\n",
              "      <td>0.000000</td>\n",
              "      <td>0.000000</td>\n",
              "      <td>0.000000</td>\n",
              "    </tr>\n",
              "    <tr>\n",
              "      <th>25%</th>\n",
              "      <td>16.000000</td>\n",
              "      <td>2.000000</td>\n",
              "      <td>1.000000</td>\n",
              "      <td>1.000000</td>\n",
              "      <td>1.000000</td>\n",
              "      <td>0.000000</td>\n",
              "      <td>4.00000</td>\n",
              "      <td>3.000000</td>\n",
              "      <td>2.000000</td>\n",
              "      <td>1.000000</td>\n",
              "      <td>1.000000</td>\n",
              "      <td>3.000000</td>\n",
              "      <td>0.000000</td>\n",
              "      <td>9.000000</td>\n",
              "      <td>9.000000</td>\n",
              "      <td>10.000000</td>\n",
              "    </tr>\n",
              "    <tr>\n",
              "      <th>50%</th>\n",
              "      <td>17.000000</td>\n",
              "      <td>2.000000</td>\n",
              "      <td>2.000000</td>\n",
              "      <td>1.000000</td>\n",
              "      <td>2.000000</td>\n",
              "      <td>0.000000</td>\n",
              "      <td>4.00000</td>\n",
              "      <td>3.000000</td>\n",
              "      <td>3.000000</td>\n",
              "      <td>1.000000</td>\n",
              "      <td>2.000000</td>\n",
              "      <td>4.000000</td>\n",
              "      <td>2.000000</td>\n",
              "      <td>11.000000</td>\n",
              "      <td>11.000000</td>\n",
              "      <td>11.000000</td>\n",
              "    </tr>\n",
              "    <tr>\n",
              "      <th>75%</th>\n",
              "      <td>18.000000</td>\n",
              "      <td>4.000000</td>\n",
              "      <td>3.000000</td>\n",
              "      <td>2.000000</td>\n",
              "      <td>2.000000</td>\n",
              "      <td>0.000000</td>\n",
              "      <td>5.00000</td>\n",
              "      <td>4.000000</td>\n",
              "      <td>4.000000</td>\n",
              "      <td>2.000000</td>\n",
              "      <td>3.000000</td>\n",
              "      <td>5.000000</td>\n",
              "      <td>6.000000</td>\n",
              "      <td>13.000000</td>\n",
              "      <td>13.000000</td>\n",
              "      <td>13.000000</td>\n",
              "    </tr>\n",
              "    <tr>\n",
              "      <th>max</th>\n",
              "      <td>20.000000</td>\n",
              "      <td>4.000000</td>\n",
              "      <td>4.000000</td>\n",
              "      <td>4.000000</td>\n",
              "      <td>4.000000</td>\n",
              "      <td>3.000000</td>\n",
              "      <td>5.00000</td>\n",
              "      <td>5.000000</td>\n",
              "      <td>5.000000</td>\n",
              "      <td>5.000000</td>\n",
              "      <td>5.000000</td>\n",
              "      <td>5.000000</td>\n",
              "      <td>40.000000</td>\n",
              "      <td>18.000000</td>\n",
              "      <td>19.000000</td>\n",
              "      <td>19.000000</td>\n",
              "    </tr>\n",
              "  </tbody>\n",
              "</table>\n",
              "</div>"
            ],
            "text/plain": [
              "              age        Medu        Fedu  traveltime   studytime    failures  \\\n",
              "count  201.000000  201.000000  201.000000  201.000000  201.000000  201.000000   \n",
              "mean    16.761194    2.532338    2.313433    1.601990    2.029851    0.238806   \n",
              "std      1.201119    1.095536    1.065959    0.768633    0.824078    0.602235   \n",
              "min     15.000000    0.000000    0.000000    1.000000    1.000000    0.000000   \n",
              "25%     16.000000    2.000000    1.000000    1.000000    1.000000    0.000000   \n",
              "50%     17.000000    2.000000    2.000000    1.000000    2.000000    0.000000   \n",
              "75%     18.000000    4.000000    3.000000    2.000000    2.000000    0.000000   \n",
              "max     20.000000    4.000000    4.000000    4.000000    4.000000    3.000000   \n",
              "\n",
              "          famrel    freetime       goout        Dalc        Walc      health  \\\n",
              "count  201.00000  201.000000  201.000000  201.000000  201.000000  201.000000   \n",
              "mean     3.99005    3.233831    3.228856    1.522388    2.353234    3.537313   \n",
              "std      0.92190    1.044054    1.194723    0.905950    1.334017    1.414161   \n",
              "min      1.00000    1.000000    1.000000    1.000000    1.000000    1.000000   \n",
              "25%      4.00000    3.000000    2.000000    1.000000    1.000000    3.000000   \n",
              "50%      4.00000    3.000000    3.000000    1.000000    2.000000    4.000000   \n",
              "75%      5.00000    4.000000    4.000000    2.000000    3.000000    5.000000   \n",
              "max      5.00000    5.000000    5.000000    5.000000    5.000000    5.000000   \n",
              "\n",
              "         absences          G1          G2          G3  \n",
              "count  201.000000  201.000000  201.000000  201.000000  \n",
              "mean     4.328358   10.925373   10.945274   10.995025  \n",
              "std      5.570605    2.954556    3.220557    3.826875  \n",
              "min      0.000000    0.000000    0.000000    0.000000  \n",
              "25%      0.000000    9.000000    9.000000   10.000000  \n",
              "50%      2.000000   11.000000   11.000000   11.000000  \n",
              "75%      6.000000   13.000000   13.000000   13.000000  \n",
              "max     40.000000   18.000000   19.000000   19.000000  "
            ]
          },
          "metadata": {
            "tags": []
          },
          "execution_count": 136
        }
      ]
    },
    {
      "cell_type": "code",
      "metadata": {
        "colab": {
          "base_uri": "https://localhost:8080/",
          "height": 297
        },
        "id": "dX58Zb6v5_vp",
        "outputId": "1bcff14b-cb9b-432d-e587-cdd7bd0420f0"
      },
      "source": [
        "df_train.describe()"
      ],
      "execution_count": 137,
      "outputs": [
        {
          "output_type": "execute_result",
          "data": {
            "text/html": [
              "<div>\n",
              "<style scoped>\n",
              "    .dataframe tbody tr th:only-of-type {\n",
              "        vertical-align: middle;\n",
              "    }\n",
              "\n",
              "    .dataframe tbody tr th {\n",
              "        vertical-align: top;\n",
              "    }\n",
              "\n",
              "    .dataframe thead th {\n",
              "        text-align: right;\n",
              "    }\n",
              "</style>\n",
              "<table border=\"1\" class=\"dataframe\">\n",
              "  <thead>\n",
              "    <tr style=\"text-align: right;\">\n",
              "      <th></th>\n",
              "      <th>age</th>\n",
              "      <th>Medu</th>\n",
              "      <th>Fedu</th>\n",
              "      <th>traveltime</th>\n",
              "      <th>studytime</th>\n",
              "      <th>failures</th>\n",
              "      <th>famrel</th>\n",
              "      <th>freetime</th>\n",
              "      <th>goout</th>\n",
              "      <th>Dalc</th>\n",
              "      <th>Walc</th>\n",
              "      <th>health</th>\n",
              "      <th>absences</th>\n",
              "      <th>G1</th>\n",
              "      <th>G2</th>\n",
              "      <th>G3</th>\n",
              "    </tr>\n",
              "  </thead>\n",
              "  <tbody>\n",
              "    <tr>\n",
              "      <th>count</th>\n",
              "      <td>803.000000</td>\n",
              "      <td>803.000000</td>\n",
              "      <td>803.000000</td>\n",
              "      <td>803.000000</td>\n",
              "      <td>803.000000</td>\n",
              "      <td>803.000000</td>\n",
              "      <td>803.000000</td>\n",
              "      <td>803.000000</td>\n",
              "      <td>803.000000</td>\n",
              "      <td>803.000000</td>\n",
              "      <td>803.000000</td>\n",
              "      <td>803.000000</td>\n",
              "      <td>803.000000</td>\n",
              "      <td>803.000000</td>\n",
              "      <td>803.000000</td>\n",
              "      <td>803.000000</td>\n",
              "    </tr>\n",
              "    <tr>\n",
              "      <th>mean</th>\n",
              "      <td>16.735990</td>\n",
              "      <td>2.620174</td>\n",
              "      <td>2.408468</td>\n",
              "      <td>1.504359</td>\n",
              "      <td>1.958904</td>\n",
              "      <td>0.271482</td>\n",
              "      <td>3.924035</td>\n",
              "      <td>3.198007</td>\n",
              "      <td>3.146949</td>\n",
              "      <td>1.491905</td>\n",
              "      <td>2.270237</td>\n",
              "      <td>3.542964</td>\n",
              "      <td>4.514321</td>\n",
              "      <td>11.267746</td>\n",
              "      <td>11.303861</td>\n",
              "      <td>11.403487</td>\n",
              "    </tr>\n",
              "    <tr>\n",
              "      <th>std</th>\n",
              "      <td>1.251448</td>\n",
              "      <td>1.127282</td>\n",
              "      <td>1.105429</td>\n",
              "      <td>0.726017</td>\n",
              "      <td>0.845734</td>\n",
              "      <td>0.672600</td>\n",
              "      <td>0.937156</td>\n",
              "      <td>1.029198</td>\n",
              "      <td>1.147838</td>\n",
              "      <td>0.917207</td>\n",
              "      <td>1.278227</td>\n",
              "      <td>1.426184</td>\n",
              "      <td>6.404739</td>\n",
              "      <td>2.995723</td>\n",
              "      <td>3.301526</td>\n",
              "      <td>3.879300</td>\n",
              "    </tr>\n",
              "    <tr>\n",
              "      <th>min</th>\n",
              "      <td>15.000000</td>\n",
              "      <td>0.000000</td>\n",
              "      <td>0.000000</td>\n",
              "      <td>1.000000</td>\n",
              "      <td>1.000000</td>\n",
              "      <td>0.000000</td>\n",
              "      <td>1.000000</td>\n",
              "      <td>1.000000</td>\n",
              "      <td>1.000000</td>\n",
              "      <td>1.000000</td>\n",
              "      <td>1.000000</td>\n",
              "      <td>1.000000</td>\n",
              "      <td>0.000000</td>\n",
              "      <td>3.000000</td>\n",
              "      <td>0.000000</td>\n",
              "      <td>0.000000</td>\n",
              "    </tr>\n",
              "    <tr>\n",
              "      <th>25%</th>\n",
              "      <td>16.000000</td>\n",
              "      <td>2.000000</td>\n",
              "      <td>1.500000</td>\n",
              "      <td>1.000000</td>\n",
              "      <td>1.000000</td>\n",
              "      <td>0.000000</td>\n",
              "      <td>4.000000</td>\n",
              "      <td>3.000000</td>\n",
              "      <td>2.000000</td>\n",
              "      <td>1.000000</td>\n",
              "      <td>1.000000</td>\n",
              "      <td>2.500000</td>\n",
              "      <td>0.000000</td>\n",
              "      <td>9.000000</td>\n",
              "      <td>9.000000</td>\n",
              "      <td>10.000000</td>\n",
              "    </tr>\n",
              "    <tr>\n",
              "      <th>50%</th>\n",
              "      <td>17.000000</td>\n",
              "      <td>3.000000</td>\n",
              "      <td>2.000000</td>\n",
              "      <td>1.000000</td>\n",
              "      <td>2.000000</td>\n",
              "      <td>0.000000</td>\n",
              "      <td>4.000000</td>\n",
              "      <td>3.000000</td>\n",
              "      <td>3.000000</td>\n",
              "      <td>1.000000</td>\n",
              "      <td>2.000000</td>\n",
              "      <td>4.000000</td>\n",
              "      <td>2.000000</td>\n",
              "      <td>11.000000</td>\n",
              "      <td>11.000000</td>\n",
              "      <td>11.000000</td>\n",
              "    </tr>\n",
              "    <tr>\n",
              "      <th>75%</th>\n",
              "      <td>18.000000</td>\n",
              "      <td>4.000000</td>\n",
              "      <td>3.000000</td>\n",
              "      <td>2.000000</td>\n",
              "      <td>2.000000</td>\n",
              "      <td>0.000000</td>\n",
              "      <td>5.000000</td>\n",
              "      <td>4.000000</td>\n",
              "      <td>4.000000</td>\n",
              "      <td>2.000000</td>\n",
              "      <td>3.000000</td>\n",
              "      <td>5.000000</td>\n",
              "      <td>6.000000</td>\n",
              "      <td>13.500000</td>\n",
              "      <td>13.000000</td>\n",
              "      <td>14.000000</td>\n",
              "    </tr>\n",
              "    <tr>\n",
              "      <th>max</th>\n",
              "      <td>22.000000</td>\n",
              "      <td>4.000000</td>\n",
              "      <td>4.000000</td>\n",
              "      <td>4.000000</td>\n",
              "      <td>4.000000</td>\n",
              "      <td>3.000000</td>\n",
              "      <td>5.000000</td>\n",
              "      <td>5.000000</td>\n",
              "      <td>5.000000</td>\n",
              "      <td>5.000000</td>\n",
              "      <td>5.000000</td>\n",
              "      <td>5.000000</td>\n",
              "      <td>75.000000</td>\n",
              "      <td>19.000000</td>\n",
              "      <td>19.000000</td>\n",
              "      <td>20.000000</td>\n",
              "    </tr>\n",
              "  </tbody>\n",
              "</table>\n",
              "</div>"
            ],
            "text/plain": [
              "              age        Medu        Fedu  traveltime   studytime    failures  \\\n",
              "count  803.000000  803.000000  803.000000  803.000000  803.000000  803.000000   \n",
              "mean    16.735990    2.620174    2.408468    1.504359    1.958904    0.271482   \n",
              "std      1.251448    1.127282    1.105429    0.726017    0.845734    0.672600   \n",
              "min     15.000000    0.000000    0.000000    1.000000    1.000000    0.000000   \n",
              "25%     16.000000    2.000000    1.500000    1.000000    1.000000    0.000000   \n",
              "50%     17.000000    3.000000    2.000000    1.000000    2.000000    0.000000   \n",
              "75%     18.000000    4.000000    3.000000    2.000000    2.000000    0.000000   \n",
              "max     22.000000    4.000000    4.000000    4.000000    4.000000    3.000000   \n",
              "\n",
              "           famrel    freetime       goout        Dalc        Walc      health  \\\n",
              "count  803.000000  803.000000  803.000000  803.000000  803.000000  803.000000   \n",
              "mean     3.924035    3.198007    3.146949    1.491905    2.270237    3.542964   \n",
              "std      0.937156    1.029198    1.147838    0.917207    1.278227    1.426184   \n",
              "min      1.000000    1.000000    1.000000    1.000000    1.000000    1.000000   \n",
              "25%      4.000000    3.000000    2.000000    1.000000    1.000000    2.500000   \n",
              "50%      4.000000    3.000000    3.000000    1.000000    2.000000    4.000000   \n",
              "75%      5.000000    4.000000    4.000000    2.000000    3.000000    5.000000   \n",
              "max      5.000000    5.000000    5.000000    5.000000    5.000000    5.000000   \n",
              "\n",
              "         absences          G1          G2          G3  \n",
              "count  803.000000  803.000000  803.000000  803.000000  \n",
              "mean     4.514321   11.267746   11.303861   11.403487  \n",
              "std      6.404739    2.995723    3.301526    3.879300  \n",
              "min      0.000000    3.000000    0.000000    0.000000  \n",
              "25%      0.000000    9.000000    9.000000   10.000000  \n",
              "50%      2.000000   11.000000   11.000000   11.000000  \n",
              "75%      6.000000   13.500000   13.000000   14.000000  \n",
              "max     75.000000   19.000000   19.000000   20.000000  "
            ]
          },
          "metadata": {
            "tags": []
          },
          "execution_count": 137
        }
      ]
    },
    {
      "cell_type": "markdown",
      "metadata": {
        "id": "FbXO2skD6GVA"
      },
      "source": [
        "различия незначительны"
      ]
    },
    {
      "cell_type": "markdown",
      "metadata": {
        "id": "NCRbFWg75FOX"
      },
      "source": [
        "## Часть 2. Регрессия"
      ]
    },
    {
      "cell_type": "markdown",
      "metadata": {
        "id": "ymx1qIS65FOX"
      },
      "source": [
        "* Решите задачу регрессии: постройте модель, предсказывающую итоговую оценку, которую получит студент по предмету (`G3`). При решении задачи **нельзя** использовать признак `G2`.  \n",
        "<br>  \n",
        "* Для решения задачи примените следующие методы:  \n",
        "  * Линейная регрессия + регуляризации  \n",
        "  * Полиномиальная регрессия  \n",
        "  * KNN  \n",
        "  * Деревья решений, Random Forest  \n",
        "  \n",
        "  Для каждого метода выполните настройку гиперпараметров на кросс-валидации.  \n",
        "<br>    \n",
        "* Оцените качество каждой модели на отложенной выборке, используйте различные метрики. Сравните модели и сделайте вывод о качестве решения задачи.  \n",
        "<br>    \n",
        "* Задачу необходимо решить в двух вариантах: с использованием признака `G1`  и без него. Сравните качество решений в двух случаях.  \n",
        "<br>    \n",
        "* В регрессионных моделях попробуйте дать интерпретацию весам признаков. "
      ]
    },
    {
      "cell_type": "code",
      "metadata": {
        "id": "srYQhKsF_LVm"
      },
      "source": [
        "G3_train_true = df_train.G3\n",
        "G3_test_true = df_test.G3"
      ],
      "execution_count": 139,
      "outputs": []
    },
    {
      "cell_type": "code",
      "metadata": {
        "id": "gi43Az8n5FOX"
      },
      "source": [
        "df_train = df_train.drop(columns=['G2','G3'])\n",
        "df_test = df_test.drop(columns=['G2','G3'])\n",
        "df_train_noG1 = df_train.drop(columns=['G1'])\n",
        "df_test_noG1 = df_test.drop(columns=['G1'])"
      ],
      "execution_count": 116,
      "outputs": []
    },
    {
      "cell_type": "code",
      "metadata": {
        "id": "W7UG7eiSAHu2"
      },
      "source": [
        "def compute_metrics(y_pred, y_true, return_metrics=False):\n",
        "    mse = metrics.mean_squared_error(y_pred=y_pred, y_true=y_true)\n",
        "    rmse = np.sqrt(mse)\n",
        "    mae = metrics.mean_absolute_error(y_pred=y_pred, y_true=y_true)\n",
        "    medae = metrics.median_absolute_error(y_pred=y_pred, y_true=y_true)\n",
        "    R2 = metrics.r2_score(y_pred=y_pred, y_true=y_true)\n",
        "    if return_metrics: \n",
        "        return mse, rmse, mae, medae, R2\n",
        "    else:\n",
        "        print(f\"MSE:   {mse}\\nRMSE:  {rmse}\\nMAE:   {mae}\\nMedAE: {medae}\\nR2:    {R2}\")"
      ],
      "execution_count": null,
      "outputs": []
    },
    {
      "cell_type": "markdown",
      "metadata": {
        "id": "D6mY6uYa5FOY"
      },
      "source": [
        "## Часть 3. Бинарная классификация"
      ]
    },
    {
      "cell_type": "markdown",
      "metadata": {
        "id": "lEmoc8ML5FOY"
      },
      "source": [
        "Решите задачу бинарной классификации: постройте модель, предсказывающую, сдаст студент предмет (`G3` >= 8) или не сдаст (`G3` < 8). <br>При решении задачи **нельзя** использовать признаки `G1` и `G2`.  \n"
      ]
    },
    {
      "cell_type": "markdown",
      "metadata": {
        "id": "KrG-iMNq5FOY"
      },
      "source": [
        "### Задание 1  \n",
        "  \n",
        "* Постройте дерево решений глубины 5 (остальные параметры по умолчанию), оцените качество на 5-fold валидации.  \n",
        "* Для одного из деревьев (т.е. обученного на одной из итераций кросс-валидации) выведите само дерево - постройте график или выведите в текстовом виде. По структуре дерева сформулируйте правила, по которым принимается решение.  \n",
        "* Сравните между собой деревья решений, полученных на различных итерациях 5-fold валидации. Сделайте вывод, насколько сильно они похожи или различаются между собой. "
      ]
    },
    {
      "cell_type": "code",
      "metadata": {
        "collapsed": true,
        "id": "L5rp2Ll35FOY"
      },
      "source": [
        "# your code here"
      ],
      "execution_count": null,
      "outputs": []
    },
    {
      "cell_type": "markdown",
      "metadata": {
        "id": "PAx4SiF85FOY"
      },
      "source": [
        "### Задание 2  \n",
        "  \n",
        "На кросс-валидации (5-fold из 2 повторений) оцените, как меняется качество модели Random Forest с ростом числа деревьев (при дефолтных значениях остальных параметров). Провизуализируйте результаты. Сколько деревьев достаточно в данном случае и почему?  \n",
        "**NB:** В сравнение включите конфигурацию, аналогичную простому дереву решений. "
      ]
    },
    {
      "cell_type": "code",
      "metadata": {
        "collapsed": true,
        "id": "1SCR2_hv5FOY"
      },
      "source": [
        "# your code here"
      ],
      "execution_count": null,
      "outputs": []
    },
    {
      "cell_type": "markdown",
      "metadata": {
        "id": "kGUQhLSL5FOZ"
      },
      "source": [
        "### Задание 3  \n",
        "  \n",
        "* Настройте гиперпараметры модели Random Forest на 5-fold валдиации. В качестве метрики используйте F1-score. Замерьте время, затраченное на вычисления.\n",
        "* Обучите Random Forest  с настроенными параметрами на всех данных для моделирования. На отложенной выборке оцените качество (F1-score) всего ансамбля и <u>каждого дерева отдельно</u>. Постройте график распределения качества деревьев в ансамбле и сравните результаты с качеством всего леса. Дайте комментарий.  \n",
        "* Выведите важность признаков в Random Forest, сделайте выводы. "
      ]
    },
    {
      "cell_type": "code",
      "metadata": {
        "collapsed": true,
        "id": "12WcOPeU5FOZ"
      },
      "source": [
        "# your code here"
      ],
      "execution_count": null,
      "outputs": []
    },
    {
      "cell_type": "markdown",
      "metadata": {
        "id": "o-a1UoIk5FOZ"
      },
      "source": [
        "### Задание 4  \n",
        "  \n",
        "* Примените логистическую регрессию для решения задачи, подберите оптимальные значения гиперпараметров. Оцените качество (roc auc) на 5-fold валидации из 2 повторений. \n",
        "* Аналогично (на такой же валидации (тех же подвыборках) с такой же метрикой) оцените качество Random Forest  с подобранными в предыдущем задании параметрами. Сравните с качеством логистическом регрессии.\n",
        "* Обучите логистическую модель с настроенными параметрами на всех данных для моделирования. На отложенной выборке оцените качество - постройте ROC-кривую, вычислите roc auc. Вычислите аналогичную метрику для Random Forest из Задания 3, сравните точность моделей. "
      ]
    },
    {
      "cell_type": "code",
      "metadata": {
        "collapsed": true,
        "id": "kKV3o31I5FOa"
      },
      "source": [
        "# your code here"
      ],
      "execution_count": null,
      "outputs": []
    },
    {
      "cell_type": "markdown",
      "metadata": {
        "id": "gXADMyee5FOa"
      },
      "source": [
        "### Задание 5  \n",
        "  \n",
        "* Используйте для решения задачи один из фреймворков градиентного бустинга: XGBoost, LightGDB или CatBoost.  \n",
        "* Оцените на 5-fold валидации, как растет качество модели на обучающей и на тестовой выборках при добавлении каждого дерева. Провизуализируйте результаты.  \n",
        "* Настройте гиперпараметры модели на 5-fold валидации, в качестве метрики используйте F1-score. Замерьте время, затраченное на вычисления.  \n",
        "* Обучите модель с настроенными параметрами на всех данных для моделирования и оцените качество на отложенной выборке. Сравните результаты с другими моделями, дайте комментарий."
      ]
    },
    {
      "cell_type": "code",
      "metadata": {
        "id": "onoTIK0c5FOa"
      },
      "source": [
        "# your code here"
      ],
      "execution_count": null,
      "outputs": []
    },
    {
      "cell_type": "markdown",
      "metadata": {
        "id": "xcOLLQXV5FOa"
      },
      "source": [
        "##  Часть 4. Многоклассовая классификация\n",
        "  \n",
        "* Решите задачу многоклассовой классификации: постройте модель, пресдказывающую оценку студента по предмету по 4 балльной шкале\n",
        "    - Отлично: 18 <= `G3` <= 20\n",
        "    - Хорошо: 14 <= `G3` <= 17\n",
        "    - Удовлетворительно: 8 <= `G3` <= 13\n",
        "    - Неудовлетворительно: `G3` < 8  \n",
        "  \n",
        "  При решении задачи **нельзя** использовать признаки `G1` и `G2`.  \n",
        "  \n",
        "  \n",
        "* Для решения задачи примените следующие методы:  \n",
        "  * KNN  \n",
        "  * Логистическая регрессия  \n",
        "  * Деревья решений  \n",
        "  * Random Forest\n",
        "  * Gradient Boosting\n",
        "  \n",
        "  На кросс-валидации подберите оптимальные значения гиперпараметров алгоритмов.  \n",
        "  \n",
        "  \n",
        "* Оцените качество моделей, используйте confusion matrix и производные от нее метрики. Сделайте выводы.    "
      ]
    },
    {
      "cell_type": "code",
      "metadata": {
        "id": "L6MFFaPo5FOa"
      },
      "source": [
        "# your code here"
      ],
      "execution_count": null,
      "outputs": []
    }
  ]
}